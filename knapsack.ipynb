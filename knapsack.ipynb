{
 "cells": [
  {
   "cell_type": "code",
   "execution_count": 21,
   "metadata": {
    "collapsed": true
   },
   "outputs": [],
   "source": [
    "#!/usr/bin/python\n",
    "# -*- coding: utf-8 -*-\n",
    "import sys\n",
    "import numpy as np\n",
    "from collections import namedtuple"
   ]
  },
  {
   "cell_type": "markdown",
   "metadata": {},
   "source": [
    "## Dynamic programming approach"
   ]
  },
  {
   "cell_type": "code",
   "execution_count": 37,
   "metadata": {
    "collapsed": false
   },
   "outputs": [],
   "source": [
    "def dp_ks(items, capacity):\n",
    "    max_cap = capacity\n",
    "    v = np.zeros((len(items), max_cap+1))-1\n",
    "    for cap in range(max_cap+1):# iterating over the max capacities\n",
    "        for i, item in enumerate(items):\n",
    "            wt = item.weight\n",
    "            if cap==0:\n",
    "                v[i][cap] = 0\n",
    "            else:\n",
    "                if i==0:\n",
    "                    v[i][cap]=0\n",
    "                    if wt<=cap:\n",
    "                        v[i][cap]= item.value\n",
    "                else:\n",
    "                    if wt>cap:\n",
    "                        v[i][cap] = v[i-1][cap]\n",
    "                    else: #include the new wt or take the prev one(max of that)\n",
    "                        v[i][cap] = max(v[i-1][cap-wt]+item.value, v[i-1][cap])\n",
    "    optimum_flag = 1 # DP gives optimum results\n",
    "    value = v[len(items)-1][capacity]\n",
    "    print(v)\n",
    "    # getting the actual items selected to give us the optimum solution\n",
    "    curr_cap = max_cap\n",
    "    weight = 0#total weight in the solution\n",
    "    taken = [0]*len(items) #array of 0/1 whether an item is taken or not.\n",
    "    for r, item in reversed(list(enumerate(items))):\n",
    "        if r==0: # 1st item \n",
    "            if curr_cap > item.weight: # take it!\n",
    "                taken[item.index] = 1\n",
    "                weight = item.weight\n",
    "                curr_cap -= item.weight\n",
    "            else:\n",
    "                taken[item.index] = 0\n",
    "        elif r>0 and v[r-1][curr_cap] < v[r][curr_cap]: # select the item\n",
    "            taken[item.index] = 1\n",
    "            weight += item.weight\n",
    "            curr_cap -= item.weight\n",
    "        else: # same value with less number of items\n",
    "            taken[item.index] = 0\n",
    " \n",
    "    return int(value), weight, taken, optimum_flag"
   ]
  },
  {
   "cell_type": "markdown",
   "metadata": {},
   "source": [
    "## Branch and bound approach"
   ]
  },
  {
   "cell_type": "code",
   "execution_count": null,
   "metadata": {
    "collapsed": false
   },
   "outputs": [],
   "source": []
  },
  {
   "cell_type": "markdown",
   "metadata": {},
   "source": [
    "## Greedy approach"
   ]
  },
  {
   "cell_type": "code",
   "execution_count": 38,
   "metadata": {
    "collapsed": false
   },
   "outputs": [],
   "source": [
    "def greedy_ks(items, capacity):\n",
    "    # a trivial greedy algorithm for filling the knapsack\n",
    "    # it takes items in-order until the knapsack is full\n",
    "    value = 0\n",
    "    weight = 0\n",
    "    taken = [0]*len(items)\n",
    "    optimum_flag = 0\n",
    "    for item in items:\n",
    "        if weight + item.weight <= capacity:\n",
    "            taken[item.index] = 1\n",
    "            value += item.value\n",
    "            weight += item.weight\n",
    "    return value, weight, taken, optimum_flag"
   ]
  },
  {
   "cell_type": "markdown",
   "metadata": {},
   "source": [
    "## Solver function "
   ]
  },
  {
   "cell_type": "code",
   "execution_count": 39,
   "metadata": {
    "collapsed": false
   },
   "outputs": [],
   "source": [
    "# Prepare the data and call the solver\n",
    "def solve_it(input_data):\n",
    "    # Modify this code to run your optimization algorithm\n",
    "\n",
    "    # parse the input\n",
    "    lines = input_data.split('\\n')\n",
    "\n",
    "    firstLine = lines[0].split()\n",
    "    item_count = int(firstLine[0])\n",
    "    capacity = int(firstLine[1])\n",
    "\n",
    "    items = []\n",
    "\n",
    "    for i in range(1, item_count+1):\n",
    "        line = lines[i]\n",
    "        parts = line.split()\n",
    "        items.append(Item(i-1, int(parts[0]), int(parts[1])))\n",
    "    print(items)\n",
    "        \n",
    "    #value, weight, taken, optimum_flag = greedy_ks(items, capacity)\n",
    "    value, weight, taken, optimum_flag = dp_ks(items, capacity)\n",
    "    \n",
    "    # prepare the solution in the specified output format\n",
    "    output_data = str(value) + ' ' + str(optimum_flag) + '\\n'\n",
    "    output_data += ' '.join(map(str, taken))\n",
    "    return output_data"
   ]
  },
  {
   "cell_type": "code",
   "execution_count": 41,
   "metadata": {
    "collapsed": false
   },
   "outputs": [
    {
     "name": "stdout",
     "output_type": "stream",
     "text": [
      "[Item(index=0, value=90001, weight=90000), Item(index=1, value=89751, weight=89750), Item(index=2, value=10002, weight=10001), Item(index=3, value=89501, weight=89500), Item(index=4, value=10254, weight=10252), Item(index=5, value=89251, weight=89250), Item(index=6, value=10506, weight=10503), Item(index=7, value=89001, weight=89000), Item(index=8, value=10758, weight=10754), Item(index=9, value=88751, weight=88750), Item(index=10, value=11010, weight=11005), Item(index=11, value=88501, weight=88500), Item(index=12, value=11262, weight=11256), Item(index=13, value=88251, weight=88250), Item(index=14, value=11514, weight=11507), Item(index=15, value=88001, weight=88000), Item(index=16, value=11766, weight=11758), Item(index=17, value=87751, weight=87750), Item(index=18, value=12018, weight=12009), Item(index=19, value=87501, weight=87500), Item(index=20, value=12270, weight=12260), Item(index=21, value=87251, weight=87250), Item(index=22, value=12522, weight=12511), Item(index=23, value=87001, weight=87000), Item(index=24, value=12774, weight=12762), Item(index=25, value=86751, weight=86750), Item(index=26, value=13026, weight=13013), Item(index=27, value=86501, weight=86500), Item(index=28, value=13278, weight=13264), Item(index=29, value=86251, weight=86250), Item(index=30, value=13530, weight=13515), Item(index=31, value=86001, weight=86000), Item(index=32, value=13782, weight=13766), Item(index=33, value=85751, weight=85750), Item(index=34, value=14034, weight=14017), Item(index=35, value=85501, weight=85500), Item(index=36, value=14286, weight=14268), Item(index=37, value=85251, weight=85250), Item(index=38, value=14538, weight=14519), Item(index=39, value=86131, weight=86130)]\n",
      "[[     0.      0.      0. ...,  90001.  90001.  90001.]\n",
      " [     0.      0.      0. ...,  90001.  90001.  90001.]\n",
      " [     0.      0.      0. ...,  99753.  99753.  99753.]\n",
      " ..., \n",
      " [     0.      0.      0. ...,  99924.  99924.  99924.]\n",
      " [     0.      0.      0. ...,  99924.  99924.  99924.]\n",
      " [     0.      0.      0. ...,  99924.  99924.  99924.]]\n",
      "99924 1\n",
      "0 0 0 0 0 0 0 0 0 0 0 0 0 0 1 0 1 0 1 0 1 0 1 0 0 0 1 0 1 0 1 0 0 0 0 0 0 0 0 0\n"
     ]
    }
   ],
   "source": [
    "Item = namedtuple(\"Item\", ['index', 'value', 'weight'])\n",
    "file_location = './data/ks_40_0'\n",
    "with open(file_location, 'r') as input_data_file:\n",
    "    input_data = input_data_file.read()\n",
    "print(solve_it(input_data))"
   ]
  }
 ],
 "metadata": {
  "kernelspec": {
   "display_name": "Python 3",
   "language": "python",
   "name": "python3"
  },
  "language_info": {
   "codemirror_mode": {
    "name": "ipython",
    "version": 3
   },
   "file_extension": ".py",
   "mimetype": "text/x-python",
   "name": "python",
   "nbconvert_exporter": "python",
   "pygments_lexer": "ipython3",
   "version": "3.6.0"
  }
 },
 "nbformat": 4,
 "nbformat_minor": 2
}
